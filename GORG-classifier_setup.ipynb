{
 "cells": [
  {
   "cell_type": "markdown",
   "id": "c2110810-8ffd-49b3-83d5-5fc7506fbfd7",
   "metadata": {},
   "source": [
    "## Running the GORG-classifier\n",
    "#### *(We already did this, we just want you to see what we did)*"
   ]
  },
  {
   "cell_type": "markdown",
   "id": "7d1ebd59-8af4-4dbf-9be4-2bbab41db77e",
   "metadata": {},
   "source": [
    "To get started, we are going to use the metagenomic libraries downloaded for the previous lesson. On the hub, they are located at: \n",
    "\n",
    "```\n",
    "/mnt/storage/data/metagenomes/subsampled_metagenomes/\n",
    "```"
   ]
  },
  {
   "cell_type": "markdown",
   "id": "f2ddb425-405d-43c7-8d7a-912b0aafc32a",
   "metadata": {},
   "source": [
    "But to run them through the classifier, we need to correct the read names in the forward and reverse reads so that the names are identical between the paired files.  There is a script within the GORG-classifier lesson repository that corrected this for us.  We ran this script on all downloaded metagenomes in the following way:\n",
    "\n",
    "```\n",
    "$ cd /mnt/storage/data/metagenomes/subsampled_metagenomes/\n",
    "$ for FILE in *.fastq.gz; \n",
    "do \n",
    "zcat $FILE | python ~/repos/Day3PM_gorg-classifier/scripts/update_names.py | gzip > ../subsampled_metagenomes_corrected/$FILE\n",
    "done\n",
    "```\n",
    "\n",
    "This script removes the final character within the read id, which differed between the forward and reverse files. "
   ]
  },
  {
   "cell_type": "markdown",
   "id": "77121257-a2ca-43f8-a06b-e08ed20c920c",
   "metadata": {},
   "source": [
    "Next, we will run them through the GORG-classifier. We will do so using the generic script:\n",
    "\n",
    "```\n",
    "nextflow run BigelowLab/gorg-classifier -profile docker --seqs \"/mnt/storage/data/metagenomes/subsampled_metagenomes_corrected/*_{1,2}.fastq.gz\" --cpus 10 --outdir /mnt/storage/lesson_analyses/gorg-classifier/\n",
    "```\n",
    "\n",
    "This workflow runs using Nextflow which is a workflow manager.  Nextflow manages software dependencies using either docker or singularity. Other software we've used this week (e.g. prokka) also provides an option to run via Docker rather than installing the software locally. "
   ]
  }
 ],
 "metadata": {
  "kernelspec": {
   "display_name": "biopy",
   "language": "python",
   "name": "biopy"
  },
  "language_info": {
   "codemirror_mode": {
    "name": "ipython",
    "version": 3
   },
   "file_extension": ".py",
   "mimetype": "text/x-python",
   "name": "python",
   "nbconvert_exporter": "python",
   "pygments_lexer": "ipython3",
   "version": "3.10.0"
  }
 },
 "nbformat": 4,
 "nbformat_minor": 5
}
